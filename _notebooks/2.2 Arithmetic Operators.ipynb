{
 "cells": [
  {
   "cell_type": "code",
   "execution_count": null,
   "id": "f8e30ca1",
   "metadata": {},
   "outputs": [],
   "source": [
    "https://youtu.be/M8TIOK2P2yw"
   ]
  },
  {
   "cell_type": "markdown",
   "id": "473cf805",
   "metadata": {},
   "source": [
    "<h2>Arithmetic Operators</h2>\n",
    "Arithmetic operators\n",
    "\n",
    "+ Addition\n",
    "- Subtraction\n",
    "* Multiplication\n",
    "/ Division\n",
    "% Mod (the remainder after dividing)\n",
    "** Exponentiation (note that ^ does not do this operation, as you might have seen in other languages)\n",
    "// Divides and rounds down to the nearest integer\n",
    "The usual order of mathematical operations holds in Python, which you can review in this Math Forum page(opens in a new tab) if needed.\n",
    "\n",
    "Bitwise operators are special operators in Python that you can learn more about [here](https://wiki.python.org/moin/BitwiseOperators) if you'd like.\n",
    "\n",
    "\n",
    "<b>Examples\n",
    "\n",
    "1. print(3 + 5) # 8\n",
    "2. print(1 + 2 + 3 * 3) # 12\n",
    "3. print(3 ** 2) # 9\n",
    "4. print(9 % 2) # 1"
   ]
  },
  {
   "cell_type": "code",
   "execution_count": null,
   "id": "2f0635cc",
   "metadata": {},
   "outputs": [],
   "source": []
  }
 ],
 "metadata": {
  "kernelspec": {
   "display_name": "Python 3 (ipykernel)",
   "language": "python",
   "name": "python3"
  },
  "language_info": {
   "codemirror_mode": {
    "name": "ipython",
    "version": 3
   },
   "file_extension": ".py",
   "mimetype": "text/x-python",
   "name": "python",
   "nbconvert_exporter": "python",
   "pygments_lexer": "ipython3",
   "version": "3.11.5"
  }
 },
 "nbformat": 4,
 "nbformat_minor": 5
}
